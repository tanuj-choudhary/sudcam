{
 "cells": [
  {
   "cell_type": "code",
   "execution_count": 2,
   "id": "8e06fd6e",
   "metadata": {},
   "outputs": [],
   "source": [
    "import numpy as np\n",
    "\n",
    "\n",
    "def neural_network(nn_params, input_layer_size, hidden_layer_size, num_labels, X, y, lamb):\n",
    "\t# Weights are split back to Theta1, Theta2\n",
    "\tTheta1 = np.reshape(nn_params[:hidden_layer_size * (input_layer_size + 1)],\n",
    "\t\t\t\t\t\t(hidden_layer_size, input_layer_size + 1))\n",
    "\tTheta2 = np.reshape(nn_params[hidden_layer_size * (input_layer_size + 1):],\n",
    "\t\t\t\t\t\t(num_labels, hidden_layer_size + 1))\n",
    "\n",
    "\t# Forward propagation\n",
    "\tm = X.shape[0]\n",
    "\tone_matrix = np.ones((m, 1))\n",
    "\tX = np.append(one_matrix, X, axis=1) # Adding bias unit to first layer\n",
    "\ta1 = X\n",
    "\tz2 = np.dot(X, Theta1.transpose())\n",
    "\ta2 = 1 / (1 + np.exp(-z2)) # Activation for second layer\n",
    "\tone_matrix = np.ones((m, 1))\n",
    "\ta2 = np.append(one_matrix, a2, axis=1) # Adding bias unit to hidden layer\n",
    "\tz3 = np.dot(a2, Theta2.transpose())\n",
    "\ta3 = 1 / (1 + np.exp(-z3)) # Activation for third layer\n",
    "\n",
    "\t# Changing the y labels into vectors of boolean values.\n",
    "\t# For each label between 0 and 9, there will be a vector of length 10\n",
    "\t# where the ith element will be 1 if the label equals i\n",
    "\ty_vect = np.zeros((m, 10))\n",
    "\tfor i in range(m):\n",
    "\t\ty_vect[i, int(y[i])] = 1\n",
    "\n",
    "\t# Calculating cost function\n",
    "\tJ = (1 / m) * (np.sum(np.sum(-y_vect * np.log(a3) - (1 - y_vect) * np.log(1 - a3)))) + (lamb / (2 * m)) * (\n",
    "\t\t\t\tsum(sum(pow(Theta1[:, 1:], 2))) + sum(sum(pow(Theta2[:, 1:], 2))))\n",
    "\n",
    "\t# backprop\n",
    "\tDelta3 = a3 - y_vect\n",
    "\tDelta2 = np.dot(Delta3, Theta2) * a2 * (1 - a2)\n",
    "\tDelta2 = Delta2[:, 1:]\n",
    "\n",
    "\t# gradient\n",
    "\tTheta1[:, 0] = 0\n",
    "\tTheta1_grad = (1 / m) * np.dot(Delta2.transpose(), a1) + (lamb / m) * Theta1\n",
    "\tTheta2[:, 0] = 0\n",
    "\tTheta2_grad = (1 / m) * np.dot(Delta3.transpose(), a2) + (lamb / m) * Theta2\n",
    "\tgrad = np.concatenate((Theta1_grad.flatten(), Theta2_grad.flatten()))\n",
    "\n",
    "\treturn J, grad\n"
   ]
  },
  {
   "cell_type": "code",
   "execution_count": null,
   "id": "f8773561",
   "metadata": {},
   "outputs": [],
   "source": []
  }
 ],
 "metadata": {
  "kernelspec": {
   "display_name": "Python 3 (ipykernel)",
   "language": "python",
   "name": "python3"
  },
  "language_info": {
   "codemirror_mode": {
    "name": "ipython",
    "version": 3
   },
   "file_extension": ".py",
   "mimetype": "text/x-python",
   "name": "python",
   "nbconvert_exporter": "python",
   "pygments_lexer": "ipython3",
   "version": "3.9.6"
  }
 },
 "nbformat": 4,
 "nbformat_minor": 5
}
